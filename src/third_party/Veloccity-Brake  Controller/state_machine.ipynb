{
 "cells": [
  {
   "cell_type": "code",
   "execution_count": 117,
   "metadata": {},
   "outputs": [],
   "source": [
    "from enum import Enum\n",
    "from typing import Tuple\n",
    "\n",
    "import numpy as np\n",
    "from scipy.integrate import solve_ivp"
   ]
  },
  {
   "cell_type": "code",
   "execution_count": 138,
   "metadata": {},
   "outputs": [],
   "source": [
    "class Actuator(Enum):\n",
    "    Brake = -1\n",
    "    Throttle = 1\n",
    "\n",
    "class Gear(Enum):\n",
    "    Forward = 1\n",
    "    Neutral = 0\n",
    "    Reverse = -1\n",
    "\n",
    "def stateMachine(SP: float, MEAS: float, v_thres: float = 0.1) -> Tuple:\n",
    "    if (SP > MEAS > - v_thres):\n",
    "        return [Actuator.Throttle, Gear.Forward]\n",
    "    \n",
    "    elif (MEAS > SP > -v_thres):\n",
    "        return [Actuator.Brake, Gear.Forward]\n",
    "\n",
    "    elif (SP < MEAS < v_thres):\n",
    "        return [Actuator.Throttle, Gear.Reverse]\n",
    "\n",
    "    elif (MEAS < SP < v_thres):\n",
    "        return [Actuator.Brake, Gear.Reverse]\n",
    "\n",
    "    elif (SP*MEAS < 0.0):\n",
    "        return [Actuator.Brake, Gear.Neutral]\n",
    "\n",
    "    else:\n",
    "        return [Actuator.Brake, Gear.Neutral]\n",
    "\n",
    "def controlLaw(SP: float, MEAS: float, Kp: float, u_bounds: Tuple) -> float:\n",
    "    e = SP - MEAS\n",
    "    u = Kp*abs(e)\n",
    "    return min(max(u,u_bounds[0]),u_bounds[1])\n",
    "\n",
    "def sys(t,x):\n",
    "    state = stateMachine(5, x, 0.1)\n",
    "    u_b = controlLaw(5,x,0.3,[0,1])\n",
    "    u_t = controlLaw(5,x,1.8,[0,1])\n",
    "    return -0.2*x + 0.5*state[0].value*((1 + state[1].value)*u_b + (-1 + state[1].value)*u_t)"
   ]
  },
  {
   "cell_type": "code",
   "execution_count": 166,
   "metadata": {},
   "outputs": [
    {
     "name": "stdout",
     "output_type": "stream",
     "text": [
      "[<Actuator.Throttle: 1>, <Gear.Reverse: -1>] 0.0 -2\n",
      "-2.0\n"
     ]
    }
   ],
   "source": [
    "sp = \n",
    "meas = -1\n",
    "\n",
    "state = stateMachine(sp,meas)\n",
    "u_b = controlLaw(sp,meas,0.5,[0,1])\n",
    "u_t = controlLaw(sp,meas,1.8,[0,1])\n",
    "\n",
    "print(state, (state[0].value*state[1].value + 1)*u_b, (state[0].value*state[1].value - 1)*u_t)\n",
    "\n",
    "print( (state[0].value*state[1].value + 1)*u_b + (state[0].value*state[1].value - 1)*u_t)"
   ]
  },
  {
   "cell_type": "code",
   "execution_count": 168,
   "metadata": {},
   "outputs": [
    {
     "name": "stdout",
     "output_type": "stream",
     "text": [
      "1\n",
      "2\n",
      "3\n",
      "4\n",
      "5\n",
      "6\n",
      "7\n",
      "8\n"
     ]
    }
   ],
   "source": [
    "T = [ 1, 2, 3, 4, 5, 6, 7, 8]\n",
    "\n",
    "while True:\n",
    "    if len(T) == 0:\n",
    "        break\n",
    "    print(T.pop(0))"
   ]
  }
 ],
 "metadata": {
  "kernelspec": {
   "display_name": "Python 3",
   "language": "python",
   "name": "python3"
  },
  "language_info": {
   "codemirror_mode": {
    "name": "ipython",
    "version": 3
   },
   "file_extension": ".py",
   "mimetype": "text/x-python",
   "name": "python",
   "nbconvert_exporter": "python",
   "pygments_lexer": "ipython3",
   "version": "3.10.0"
  },
  "orig_nbformat": 4
 },
 "nbformat": 4,
 "nbformat_minor": 2
}
