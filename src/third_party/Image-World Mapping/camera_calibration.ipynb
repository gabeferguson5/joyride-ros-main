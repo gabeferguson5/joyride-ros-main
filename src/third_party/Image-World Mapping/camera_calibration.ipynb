{
 "cells": [
  {
   "cell_type": "code",
   "execution_count": 10,
   "metadata": {},
   "outputs": [],
   "source": [
    "import numpy as np\n",
    "import scipy.linalg as LA\n",
    "from scipy.optimize import lsq_linear"
   ]
  },
  {
   "cell_type": "code",
   "execution_count": 11,
   "metadata": {},
   "outputs": [],
   "source": [
    "def calibrate_uv_xyz_transform(calibration_file: str, calibration_type: str = \"correlated\") -> np.ndarray:\n",
    "    if calibration_type == \"correlated\":\n",
    "        U, V, X, Y, Z = np.loadtxt(calibration_file,skiprows=2, unpack=True, delimiter=\",\")\n",
    "        image_space = np.array([U,V]).T\n",
    "        world_space = np.array([X, Y, Z]).T\n",
    "        R = create_regressor(image_space)\n",
    "        sol = lsq_linear(LA.block_diag(R,R,R) ,np.append(X, [Y,Z]))\n",
    "        Θ = sol.x.reshape(10,3, order=\"F\")\n",
    "        return Θ\n",
    "    elif calibration_type == \"params\":\n",
    "        Θ = np.loadtxt(calibration_file,skiprows=1, delimiter=\",\")\n",
    "        return Θ\n",
    "\n",
    "def create_regressor(uv: np.ndarray) -> np.ndarray:\n",
    "    Φ = np.transpose([np.ones_like(uv[:,0]),\n",
    "                        uv[:,0], uv[:,0]**2, uv[:,0]**3, \n",
    "                        uv[:,1], uv[:,1]**2, uv[:,1]**3, \n",
    "                        uv[:,0]*uv[:,1], \n",
    "                        uv[:,0]**2 *uv[:,1], \n",
    "                        uv[:,0]*uv[:,1]**2 ])\n",
    "    return Φ \n",
    "\n",
    "def project_image(uv: np.ndarray, Θ: np.ndarray) -> np.ndarray:\n",
    "    Φ = create_regressor(uv)\n",
    "    P = Φ @ Θ\n",
    "    return P"
   ]
  },
  {
   "cell_type": "code",
   "execution_count": 24,
   "metadata": {},
   "outputs": [],
   "source": [
    "Θ = calibrate_uv_xyz_transform(\"calibration_data.csv\")"
   ]
  },
  {
   "cell_type": "code",
   "execution_count": 13,
   "metadata": {},
   "outputs": [],
   "source": [
    "U, V, X, Y, Z = np.loadtxt(\"calibration_validation.csv\",skiprows=2, unpack=True, delimiter=\",\")\n",
    "image_space_validation = np.array([U,V]).T\n",
    "world_space_validation = np.array([X, Y, Z]).T"
   ]
  },
  {
   "cell_type": "code",
   "execution_count": 14,
   "metadata": {},
   "outputs": [
    {
     "data": {
      "text/plain": [
       "array([-2.41824324e-02, -1.67781328e-02, -1.43303345e-17])"
      ]
     },
     "execution_count": 14,
     "metadata": {},
     "output_type": "execute_result"
    }
   ],
   "source": [
    "projected_validation = project_image(image_space_validation,Θ)\n",
    "\n",
    "np.average(world_space_validation - projected_validation, axis=0)"
   ]
  },
  {
   "cell_type": "code",
   "execution_count": 25,
   "metadata": {},
   "outputs": [
    {
     "name": "stdout",
     "output_type": "stream",
     "text": [
      "[[ 5.19586538e+00  1.42489943e+00 -6.38274677e-17]]\n"
     ]
    }
   ],
   "source": [
    "test_point = np.array([[896,564]])\n",
    "print(create_regressor(test_point)@Θ)"
   ]
  }
 ],
 "metadata": {
  "kernelspec": {
   "display_name": "Python 3",
   "language": "python",
   "name": "python3"
  },
  "language_info": {
   "codemirror_mode": {
    "name": "ipython",
    "version": 3
   },
   "file_extension": ".py",
   "mimetype": "text/x-python",
   "name": "python",
   "nbconvert_exporter": "python",
   "pygments_lexer": "ipython3",
   "version": "3.10.0"
  },
  "orig_nbformat": 4
 },
 "nbformat": 4,
 "nbformat_minor": 2
}
